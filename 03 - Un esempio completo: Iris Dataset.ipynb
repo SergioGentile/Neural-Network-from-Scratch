{
 "cells": [
  {
   "cell_type": "markdown",
   "id": "18ba212c",
   "metadata": {},
   "source": [
    "# Un esempio completo: Iris Dataset\n",
    "Utilizziamo la nostra rete per un esempio di classificazione reale.<br>\n",
    "L'<a href=\"https://scikit-learn.org/stable/auto_examples/datasets/plot_iris_dataset.html\">Iris Dataset</a> consiste di 150 elementi di 4 features inerenti a 3 differenti tipologie di piante: Setosa, Versicolour, e Virginica.<br>\n",
    "Le 4 features corrispondono a 4 caratteristiche della pianta: sepal length (cm), sepal width (cm), petal length (cm) e petal width (cm).<br>\n",
    "Il nostro scopo sarà predire, a partire dalla caratteristica della pianta, la tiplogia di pianta."
   ]
  },
  {
   "cell_type": "code",
   "execution_count": 1,
   "id": "53d3eec0",
   "metadata": {},
   "outputs": [],
   "source": [
    "import pandas as pd\n",
    "import numpy as np\n",
    "\n",
    "from sklearn import datasets\n",
    "from sklearn.model_selection import train_test_split\n",
    "from sklearn.metrics import accuracy_score, confusion_matrix, classification_report"
   ]
  },
  {
   "cell_type": "markdown",
   "id": "f05b70b8",
   "metadata": {},
   "source": [
    "<a href=\"https://scikit-learn.org/stable/\">Scikit-Learn</a> offre il metodo <a href=\"https://scikit-learn.org/stable/modules/generated/sklearn.datasets.load_iris.html\">load_iris</a> che consente di ottenere una in maniera semplice ed efficace il set di dati dell'Iris Dataset.<br>"
   ]
  },
  {
   "cell_type": "code",
   "execution_count": 2,
   "id": "fd56162b",
   "metadata": {},
   "outputs": [
    {
     "data": {
      "text/html": [
       "<div>\n",
       "<style scoped>\n",
       "    .dataframe tbody tr th:only-of-type {\n",
       "        vertical-align: middle;\n",
       "    }\n",
       "\n",
       "    .dataframe tbody tr th {\n",
       "        vertical-align: top;\n",
       "    }\n",
       "\n",
       "    .dataframe thead th {\n",
       "        text-align: right;\n",
       "    }\n",
       "</style>\n",
       "<table border=\"1\" class=\"dataframe\">\n",
       "  <thead>\n",
       "    <tr style=\"text-align: right;\">\n",
       "      <th></th>\n",
       "      <th>sepal length (cm)</th>\n",
       "      <th>sepal width (cm)</th>\n",
       "      <th>petal length (cm)</th>\n",
       "      <th>petal width (cm)</th>\n",
       "      <th>y</th>\n",
       "    </tr>\n",
       "  </thead>\n",
       "  <tbody>\n",
       "    <tr>\n",
       "      <th>0</th>\n",
       "      <td>5.1</td>\n",
       "      <td>3.5</td>\n",
       "      <td>1.4</td>\n",
       "      <td>0.2</td>\n",
       "      <td>0</td>\n",
       "    </tr>\n",
       "    <tr>\n",
       "      <th>1</th>\n",
       "      <td>4.9</td>\n",
       "      <td>3.0</td>\n",
       "      <td>1.4</td>\n",
       "      <td>0.2</td>\n",
       "      <td>0</td>\n",
       "    </tr>\n",
       "    <tr>\n",
       "      <th>2</th>\n",
       "      <td>4.7</td>\n",
       "      <td>3.2</td>\n",
       "      <td>1.3</td>\n",
       "      <td>0.2</td>\n",
       "      <td>0</td>\n",
       "    </tr>\n",
       "    <tr>\n",
       "      <th>3</th>\n",
       "      <td>4.6</td>\n",
       "      <td>3.1</td>\n",
       "      <td>1.5</td>\n",
       "      <td>0.2</td>\n",
       "      <td>0</td>\n",
       "    </tr>\n",
       "    <tr>\n",
       "      <th>4</th>\n",
       "      <td>5.0</td>\n",
       "      <td>3.6</td>\n",
       "      <td>1.4</td>\n",
       "      <td>0.2</td>\n",
       "      <td>0</td>\n",
       "    </tr>\n",
       "  </tbody>\n",
       "</table>\n",
       "</div>"
      ],
      "text/plain": [
       "   sepal length (cm)  sepal width (cm)  petal length (cm)  petal width (cm)  y\n",
       "0                5.1               3.5                1.4               0.2  0\n",
       "1                4.9               3.0                1.4               0.2  0\n",
       "2                4.7               3.2                1.3               0.2  0\n",
       "3                4.6               3.1                1.5               0.2  0\n",
       "4                5.0               3.6                1.4               0.2  0"
      ]
     },
     "execution_count": 2,
     "metadata": {},
     "output_type": "execute_result"
    }
   ],
   "source": [
    "# Load dati del dataset\n",
    "iris_dataset = datasets.load_iris()\n",
    "\n",
    "# Creazione Dataframe.\n",
    "# Il dataframe viene creato per lavorare più agevolmente con i dati.\n",
    "df = pd.DataFrame(iris_dataset.data, columns=iris_dataset.feature_names)\n",
    "df['y'] = iris_dataset.target\n",
    "df.head()"
   ]
  },
  {
   "cell_type": "markdown",
   "id": "55a02bf7",
   "metadata": {},
   "source": [
    "Il dataframe può essere diviso in:\n",
    "- X: contiene gli input della rete (features)\n",
    "- y: per ogni input contiene l'etichetta di classe (label)<br>\n",
    "\n",
    "A sua volta X e y possono essere divisi in:\n",
    "- Set di Train: utile per addestrare la rete\n",
    "- Set di Test: utile per testare la qualità della rete"
   ]
  },
  {
   "cell_type": "code",
   "execution_count": 3,
   "id": "ee4cc5ab",
   "metadata": {},
   "outputs": [],
   "source": [
    "# Divisione features e lables\n",
    "X, y = df.drop(['y'], axis=1).as_matrix().astype('float64'), df['y'].as_matrix().astype('int64')\n",
    "\n",
    "# Divisione train e test set\n",
    "X_train, X_test, y_train, y_test = train_test_split(X, y, test_size=0.2, random_state=94)\n"
   ]
  },
  {
   "cell_type": "markdown",
   "id": "ea3abeb1",
   "metadata": {},
   "source": [
    "Di seguito viene creata la classe NeuralNetwork utilizzando i moduli layer, functions e optimizer.<br>\n",
    "I moduli in oggetto contengono esattamente le classi spiegate nei notebook in allegato a questo tutorial.<br>\n",
    "Si precisa che la creazione della classe <i></i>:\n",
    "- Rende più agevole la lettura del codice\n",
    "- Rende possibile utilizzare la medesima rete sia per la fase di Train che per quella di Test\n",
    "- Rende più leggibile la sequenza di addestramento (forward, calcolo loss e backward)"
   ]
  },
  {
   "cell_type": "code",
   "execution_count": 4,
   "id": "89e6a209",
   "metadata": {},
   "outputs": [],
   "source": [
    "from neural_network import layers, functions, optimizers\n",
    "\n",
    "class NeuralNetwork_8:\n",
    "    def __init__(self, len_in, len_out):  \n",
    "        '''\n",
    "            Inizializzazione della rete.\n",
    "            La rete è composta da:\n",
    "            - Un layer di input\n",
    "            - Un layer Hidden composto da 8 neuroni\n",
    "            - Un layer di output\n",
    "            \n",
    "            Keyword arguments:\n",
    "            len_in -- Numero di features in input\n",
    "            len_out -- Numero di classi in output\n",
    "        \n",
    "        '''\n",
    "        self.dense1 = layers.Layer_Dense( len_in , 8 ) \n",
    "        self.relu = functions.Activation_ReLU()  \n",
    "        self.dense2 =layers.Layer_Dense( 8 , len_out)\n",
    "        self.softmax = functions.Activation_Softmax() \n",
    "\n",
    "        self.loss_activation = functions.Activation_Softmax_Loss_CategoricalCrossentropy()\n",
    "\n",
    "        self.optimizer = optimizers.Optimizer_SGD(0.1)\n",
    "        \n",
    "    def forward(self, X): \n",
    "        '''\n",
    "            Implementazione dello step di Forward\n",
    "            \n",
    "            Keyword arguments:\n",
    "            X -- Batch in input alla rete\n",
    "            \n",
    "        '''\n",
    "        # Chiamata agli step di forward in cascata (dall'input all'output)\n",
    "        self.dense1.forward(X)\n",
    "        self.relu.forward(self.dense1.output)\n",
    "        self.dense2.forward(self.relu.output) \n",
    "        self.softmax.forward(self.dense2.output) \n",
    "        return self.softmax.output\n",
    "    \n",
    "    def loss(self, y_true):\n",
    "        '''\n",
    "            Calcolo della Loss.\n",
    "            La loss è calcolata rispetto alla ground truth e al valore predetto nello\n",
    "            step di forward.\n",
    "            \n",
    "            Keyword arguments:\n",
    "            y_true -- Valore della ground truth\n",
    "            \n",
    "        '''\n",
    "        return self.loss_activation.forward(self.dense2.output, y_true)\n",
    "\n",
    "    def backpropagation(self, y_true):\n",
    "        '''\n",
    "            Implementazione della backpropagation.\n",
    "            La Backpropagation si compone degli step di:\n",
    "            - Calcolo del gradiente\n",
    "            - Aggiornamento dei pesi con lo Stocastic Gradient Descend\n",
    "            \n",
    "            Keyword arguments:\n",
    "            y_true -- Valore della ground truth\n",
    "            \n",
    "        '''\n",
    "         # Chiamata agli step di backward in cascata (dall'output all'input)\n",
    "        self.loss_activation.backward(self.loss_activation.output, y_true)\n",
    "        self.dense2.backward(self.loss_activation.dinputs)\n",
    "        self.relu.backward(self.dense2.dinputs)\n",
    "        self.dense1.backward(self.relu.dinputs)\n",
    "        \n",
    "        self.optimizer.update_params(self.dense1)\n",
    "        self.optimizer.update_params(self.dense2)\n",
    "    \n",
    "    def predict(self, X): \n",
    "        '''\n",
    "            A partire da un input X, restituisce i valori predetti dalla rete.\n",
    "            In particolare, per ogni input, viene restituita la probabilità \n",
    "            d'appartenenza ad ogni etichetta di classe (otuptu della funzione Softmax)\n",
    "            \n",
    "            Keyword arguments:\n",
    "            X -- Batch in input alla rete\n",
    "            \n",
    "        '''\n",
    "        return self.forward(X)\n",
    "    \n",
    "    def predict_classes(self, X): \n",
    "        '''\n",
    "            A partire da un input X, restituisce i valori predetti dalla rete.\n",
    "            In particolare, per ogni input, viene restituita l'etichetta di classe.\n",
    "            \n",
    "            Keyword arguments:\n",
    "            X -- Batch in input alla rete\n",
    "        ''' \n",
    "        return np.argmax(self.forward(X), axis = 1 )"
   ]
  },
  {
   "cell_type": "code",
   "execution_count": 5,
   "id": "428a9f03",
   "metadata": {},
   "outputs": [],
   "source": [
    "# Inizializzazione della neural network\n",
    "n_features = X.shape[1]\n",
    "n_classes = len(np.unique(y))\n",
    "\n",
    "model = NeuralNetwork_8(n_features, n_classes)"
   ]
  },
  {
   "cell_type": "markdown",
   "id": "5296b2ee",
   "metadata": {},
   "source": [
    "Dopo aver inizializzato la rete, è possibile procedere con la fase di training. <br>\n",
    "La fase di training è composta a diverse iterazioni (epoche):\n",
    "- In ogni epoca vengono eseguiti gli step di forward, calcolo della loss e backpropagation\n",
    "- Lo step di backpropagation effettua la discesa del gradiente, aggiornando i pesi dei pesi e dei bias dei layer dense della rete"
   ]
  },
  {
   "cell_type": "code",
   "execution_count": 6,
   "id": "cb73c358",
   "metadata": {},
   "outputs": [
    {
     "name": "stdout",
     "output_type": "stream",
     "text": [
      "epoch: 0, acc: 0.325, loss: 1.153\n",
      "epoch: 100, acc: 0.800, loss: 0.367\n",
      "epoch: 200, acc: 0.883, loss: 0.253\n",
      "epoch: 300, acc: 0.933, loss: 0.147\n",
      "epoch: 400, acc: 0.950, loss: 0.099\n",
      "epoch: 500, acc: 0.958, loss: 0.083\n",
      "epoch: 600, acc: 0.958, loss: 0.074\n",
      "epoch: 700, acc: 0.958, loss: 0.068\n",
      "epoch: 800, acc: 0.967, loss: 0.063\n",
      "epoch: 900, acc: 0.967, loss: 0.059\n"
     ]
    }
   ],
   "source": [
    "epochs = 1000\n",
    "\n",
    "# Train in loop\n",
    "for epoch in range (0, epochs):\n",
    "    model.forward(X_train)\n",
    "    \n",
    "    # Perform a forward pass through the activation/loss function\n",
    "    # takes the output of second dense layer here and returns loss\n",
    "    loss = model.loss(y_train)\n",
    "    \n",
    "   \n",
    "    predictions = np.argmax(model.predict(X_train), axis = 1 )\n",
    "    \n",
    "    if len (y_train.shape) == 2 :\n",
    "        y_train = np.argmax(y_train, axis = 1 )\n",
    "        \n",
    "    accuracy = np.mean(predictions == y_train)\n",
    "    \n",
    "    if not epoch % 100:\n",
    "        print ( f'epoch: {epoch}, acc: {accuracy:.3f}, loss: {loss :.3f}' )\n",
    "        \n",
    "    # Backpropagation pass\n",
    "    model.backpropagation(y_train)\n",
    "    \n",
    "     "
   ]
  },
  {
   "cell_type": "markdown",
   "id": "2079ba1b",
   "metadata": {},
   "source": [
    "L'oggetto <i>model</i> è un modello addestrato che può essere utilizzato. <br>\n",
    "Può essere utilizzato il set di test per valutare la bonta della rete."
   ]
  },
  {
   "cell_type": "code",
   "execution_count": 7,
   "id": "c5209319",
   "metadata": {},
   "outputs": [],
   "source": [
    "y_pred = model.predict_classes(X_test)\n",
    "y_true = y_test"
   ]
  },
  {
   "cell_type": "code",
   "execution_count": 8,
   "id": "aaa7d986",
   "metadata": {},
   "outputs": [
    {
     "name": "stdout",
     "output_type": "stream",
     "text": [
      "Accuracy:\n",
      "0.93\n",
      "\n",
      "Confusion Matrix\n",
      "[[10  0  0]\n",
      " [ 0 11  1]\n",
      " [ 0  1  7]]\n",
      "\n",
      "             precision    recall  f1-score   support\n",
      "\n",
      "          0       1.00      1.00      1.00        10\n",
      "          1       0.92      0.92      0.92        12\n",
      "          2       0.88      0.88      0.88         8\n",
      "\n",
      "avg / total       0.93      0.93      0.93        30\n",
      "\n"
     ]
    }
   ],
   "source": [
    "print(f'Accuracy:\\n{accuracy_score(y_true, y_pred):.2f}\\n')\n",
    "print(f'Confusion Matrix\\n{confusion_matrix(y_true, y_pred)}\\n')\n",
    "print(classification_report(y_true, y_pred))"
   ]
  }
 ],
 "metadata": {
  "kernelspec": {
   "display_name": "Python [conda env:addfor_tutorials] *",
   "language": "python",
   "name": "conda-env-addfor_tutorials-py"
  },
  "language_info": {
   "codemirror_mode": {
    "name": "ipython",
    "version": 3
   },
   "file_extension": ".py",
   "mimetype": "text/x-python",
   "name": "python",
   "nbconvert_exporter": "python",
   "pygments_lexer": "ipython3",
   "version": "3.6.4"
  }
 },
 "nbformat": 4,
 "nbformat_minor": 5
}
